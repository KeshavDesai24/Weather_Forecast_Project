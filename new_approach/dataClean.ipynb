{
 "cells": [
  {
   "cell_type": "code",
   "execution_count": 13,
   "id": "ae022ab1",
   "metadata": {},
   "outputs": [],
   "source": [
    "import pandas as pd\n",
    "import os"
   ]
  },
  {
   "cell_type": "code",
   "execution_count": 14,
   "id": "84b78412",
   "metadata": {},
   "outputs": [],
   "source": [
    "data_path = r'C:\\Users\\Rahul-Pc\\Desktop\\Sem6_projects\\Weather_Forecast_Project(DMBI)\\datafiles'\n",
    "output_path = r\"C:\\Users\\Rahul-Pc\\Desktop\\Sem6_projects\\Weather_Forecast_Project(DMBI)\\new_approach\\cleaned_dataset\""
   ]
  },
  {
   "cell_type": "code",
   "execution_count": 15,
   "id": "38fd8727",
   "metadata": {},
   "outputs": [],
   "source": [
    "# Filenames for merging\n",
    "santacruz_files = [\n",
    "    os.path.join(data_path, '43003_Table_3_Daily_NDCQ-2025-02-237.csv'),\n",
    "    os.path.join(data_path, '43003_Table_3_Daily_NDCQ-2025-03-203.csv')\n",
    "]\n",
    "\n",
    "colaba_files = [\n",
    "    os.path.join(data_path, '43057_Table_3_Daily_NDCQ-2025-02-237.csv'),\n",
    "    os.path.join(data_path, '43057_Table_3_Daily_NDCQ-2025-03-203.csv')\n",
    "]"
   ]
  },
  {
   "cell_type": "code",
   "execution_count": 16,
   "id": "1dab74f3",
   "metadata": {},
   "outputs": [
    {
     "name": "stderr",
     "output_type": "stream",
     "text": [
      "C:\\Users\\Rahul-Pc\\AppData\\Local\\Temp\\ipykernel_12260\\109990396.py:6: DtypeWarning: Columns (12,15,16,17,26) have mixed types. Specify dtype option on import or set low_memory=False.\n",
      "  df = pd.read_csv(file)\n",
      "C:\\Users\\Rahul-Pc\\AppData\\Local\\Temp\\ipykernel_12260\\109990396.py:6: DtypeWarning: Columns (10,11,12,13,15,16,17,18,19,22,25,26,27,28,29) have mixed types. Specify dtype option on import or set low_memory=False.\n",
      "  df = pd.read_csv(file)\n",
      "C:\\Users\\Rahul-Pc\\AppData\\Local\\Temp\\ipykernel_12260\\109990396.py:21: FutureWarning: errors='ignore' is deprecated and will raise in a future version. Use to_numeric without passing `errors` and catch exceptions explicitly instead\n",
      "  df = df.apply(pd.to_numeric, errors='ignore')  # convert what can be numeric\n",
      "C:\\Users\\Rahul-Pc\\AppData\\Local\\Temp\\ipykernel_12260\\109990396.py:22: FutureWarning: DataFrame.interpolate with object dtype is deprecated and will raise in a future version. Call obj.infer_objects(copy=False) before interpolating instead.\n",
      "  df.interpolate(method='linear', limit_direction='both', inplace=True)\n"
     ]
    },
    {
     "name": "stdout",
     "output_type": "stream",
     "text": [
      "✅ Saved cleaned file: C:\\Users\\Rahul-Pc\\Desktop\\Sem6_projects\\Weather_Forecast_Project(DMBI)\\new_approach\\cleaned_dataset\\santacruz_cleaned_merged.csv\n"
     ]
    },
    {
     "name": "stderr",
     "output_type": "stream",
     "text": [
      "C:\\Users\\Rahul-Pc\\AppData\\Local\\Temp\\ipykernel_12260\\109990396.py:6: DtypeWarning: Columns (10,15) have mixed types. Specify dtype option on import or set low_memory=False.\n",
      "  df = pd.read_csv(file)\n",
      "C:\\Users\\Rahul-Pc\\AppData\\Local\\Temp\\ipykernel_12260\\109990396.py:21: FutureWarning: errors='ignore' is deprecated and will raise in a future version. Use to_numeric without passing `errors` and catch exceptions explicitly instead\n",
      "  df = df.apply(pd.to_numeric, errors='ignore')  # convert what can be numeric\n",
      "C:\\Users\\Rahul-Pc\\AppData\\Local\\Temp\\ipykernel_12260\\109990396.py:22: FutureWarning: DataFrame.interpolate with object dtype is deprecated and will raise in a future version. Call obj.infer_objects(copy=False) before interpolating instead.\n",
      "  df.interpolate(method='linear', limit_direction='both', inplace=True)\n"
     ]
    },
    {
     "name": "stdout",
     "output_type": "stream",
     "text": [
      "✅ Saved cleaned file: C:\\Users\\Rahul-Pc\\Desktop\\Sem6_projects\\Weather_Forecast_Project(DMBI)\\new_approach\\cleaned_dataset\\colaba_cleaned_merged.csv\n"
     ]
    }
   ],
   "source": [
    "def clean_and_merge(files, station_name, save_name):\n",
    "    df_list = []\n",
    "\n",
    "    for file in files:\n",
    "        try:\n",
    "            df = pd.read_csv(file)\n",
    "            df['station'] = station_name\n",
    "            df_list.append(df)\n",
    "        except Exception as e:\n",
    "            print(f\"Error reading {file}: {e}\")\n",
    "\n",
    "    df = pd.concat(df_list, ignore_index=True)\n",
    "\n",
    "    # Drop unnamed index columns if they exist\n",
    "    df = df.loc[:, ~df.columns.str.contains('^Unnamed')]\n",
    "\n",
    "    # Replace blank/empty strings with NaN first\n",
    "    df.replace(r'^\\s*$', pd.NA, regex=True, inplace=True)\n",
    "\n",
    "    # Interpolate numeric columns only\n",
    "    df = df.apply(pd.to_numeric, errors='ignore')  # convert what can be numeric\n",
    "    df.interpolate(method='linear', limit_direction='both', inplace=True)\n",
    "\n",
    "    # Finally, fill any remaining NaN or empty values with 0\n",
    "    df.fillna(0, inplace=True)\n",
    "\n",
    "    # Save cleaned file\n",
    "    output_file = os.path.join(output_path, save_name)\n",
    "    df.to_csv(output_file, index=False)\n",
    "    print(f\"✅ Saved cleaned file: {output_file}\")\n",
    "\n",
    "# Run cleaning\n",
    "clean_and_merge(santacruz_files, 'Santacruz', 'santacruz_cleaned_merged.csv')\n",
    "clean_and_merge(colaba_files, 'Colaba', 'colaba_cleaned_merged.csv')\n"
   ]
  }
 ],
 "metadata": {
  "kernelspec": {
   "display_name": "Python 3",
   "language": "python",
   "name": "python3"
  },
  "language_info": {
   "codemirror_mode": {
    "name": "ipython",
    "version": 3
   },
   "file_extension": ".py",
   "mimetype": "text/x-python",
   "name": "python",
   "nbconvert_exporter": "python",
   "pygments_lexer": "ipython3",
   "version": "3.12.1"
  }
 },
 "nbformat": 4,
 "nbformat_minor": 5
}
